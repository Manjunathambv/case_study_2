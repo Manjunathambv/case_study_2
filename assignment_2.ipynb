{
 "cells": [
  {
   "cell_type": "code",
   "execution_count": 1,
   "id": "b6c6b353",
   "metadata": {},
   "outputs": [],
   "source": [
    "import pandas as pd\n",
    "import numpy as np\n",
    "import csv\n",
    "from matplotlib import pyplot as plt\n",
    "\n",
    "import warnings\n",
    "warnings.filterwarnings(\"ignore\")"
   ]
  },
  {
   "cell_type": "code",
   "execution_count": 2,
   "id": "162f29d4",
   "metadata": {},
   "outputs": [],
   "source": [
    "with open(\"./startup_funding.csv\", \"r\", encoding=\"utf8\") as file_object:\n",
    "    csv_data = csv.DictReader(file_object, skipinitialspace = True)\n",
    "    csv_data = list(csv_data)\n",
    "\n",
    "df_data = pd.read_csv(\"./startup_funding.csv\")"
   ]
  },
  {
   "cell_type": "code",
   "execution_count": 3,
   "id": "a4949289",
   "metadata": {},
   "outputs": [
    {
     "data": {
      "text/html": [
       "<div>\n",
       "<style scoped>\n",
       "    .dataframe tbody tr th:only-of-type {\n",
       "        vertical-align: middle;\n",
       "    }\n",
       "\n",
       "    .dataframe tbody tr th {\n",
       "        vertical-align: top;\n",
       "    }\n",
       "\n",
       "    .dataframe thead th {\n",
       "        text-align: right;\n",
       "    }\n",
       "</style>\n",
       "<table border=\"1\" class=\"dataframe\">\n",
       "  <thead>\n",
       "    <tr style=\"text-align: right;\">\n",
       "      <th></th>\n",
       "      <th>SNo</th>\n",
       "      <th>Date</th>\n",
       "      <th>StartupName</th>\n",
       "      <th>IndustryVertical</th>\n",
       "      <th>SubVertical</th>\n",
       "      <th>CityLocation</th>\n",
       "      <th>InvestorsName</th>\n",
       "      <th>InvestmentType</th>\n",
       "      <th>AmountInUSD</th>\n",
       "      <th>Remarks</th>\n",
       "    </tr>\n",
       "  </thead>\n",
       "  <tbody>\n",
       "    <tr>\n",
       "      <th>0</th>\n",
       "      <td>0</td>\n",
       "      <td>01/08/2017</td>\n",
       "      <td>TouchKin</td>\n",
       "      <td>Technology</td>\n",
       "      <td>Predictive Care Platform</td>\n",
       "      <td>Bangalore</td>\n",
       "      <td>Kae Capital</td>\n",
       "      <td>Private Equity</td>\n",
       "      <td>1,300,000</td>\n",
       "      <td>NaN</td>\n",
       "    </tr>\n",
       "    <tr>\n",
       "      <th>1</th>\n",
       "      <td>1</td>\n",
       "      <td>02/08/2017</td>\n",
       "      <td>Ethinos</td>\n",
       "      <td>Technology</td>\n",
       "      <td>Digital Marketing Agency</td>\n",
       "      <td>Mumbai</td>\n",
       "      <td>Triton Investment Advisors</td>\n",
       "      <td>Private Equity</td>\n",
       "      <td>NaN</td>\n",
       "      <td>NaN</td>\n",
       "    </tr>\n",
       "    <tr>\n",
       "      <th>2</th>\n",
       "      <td>2</td>\n",
       "      <td>02/08/2017</td>\n",
       "      <td>Leverage Edu</td>\n",
       "      <td>Consumer Internet</td>\n",
       "      <td>Online platform for Higher Education Services</td>\n",
       "      <td>New Delhi</td>\n",
       "      <td>Kashyap Deorah, Anand Sankeshwar, Deepak Jain,...</td>\n",
       "      <td>Seed Funding</td>\n",
       "      <td>NaN</td>\n",
       "      <td>NaN</td>\n",
       "    </tr>\n",
       "    <tr>\n",
       "      <th>3</th>\n",
       "      <td>3</td>\n",
       "      <td>02/08/2017</td>\n",
       "      <td>Zepo</td>\n",
       "      <td>Consumer Internet</td>\n",
       "      <td>DIY Ecommerce platform</td>\n",
       "      <td>Mumbai</td>\n",
       "      <td>Kunal Shah, LetsVenture, Anupam Mittal, Hetal ...</td>\n",
       "      <td>Seed Funding</td>\n",
       "      <td>500,000</td>\n",
       "      <td>NaN</td>\n",
       "    </tr>\n",
       "    <tr>\n",
       "      <th>4</th>\n",
       "      <td>4</td>\n",
       "      <td>02/08/2017</td>\n",
       "      <td>Click2Clinic</td>\n",
       "      <td>Consumer Internet</td>\n",
       "      <td>healthcare service aggregator</td>\n",
       "      <td>Hyderabad</td>\n",
       "      <td>Narottam Thudi, Shireesh Palle</td>\n",
       "      <td>Seed Funding</td>\n",
       "      <td>850,000</td>\n",
       "      <td>NaN</td>\n",
       "    </tr>\n",
       "  </tbody>\n",
       "</table>\n",
       "</div>"
      ],
      "text/plain": [
       "   SNo        Date   StartupName   IndustryVertical  \\\n",
       "0    0  01/08/2017      TouchKin         Technology   \n",
       "1    1  02/08/2017       Ethinos         Technology   \n",
       "2    2  02/08/2017  Leverage Edu  Consumer Internet   \n",
       "3    3  02/08/2017          Zepo  Consumer Internet   \n",
       "4    4  02/08/2017  Click2Clinic  Consumer Internet   \n",
       "\n",
       "                                     SubVertical CityLocation  \\\n",
       "0                       Predictive Care Platform    Bangalore   \n",
       "1                       Digital Marketing Agency       Mumbai   \n",
       "2  Online platform for Higher Education Services    New Delhi   \n",
       "3                         DIY Ecommerce platform       Mumbai   \n",
       "4                  healthcare service aggregator    Hyderabad   \n",
       "\n",
       "                                       InvestorsName  InvestmentType  \\\n",
       "0                                        Kae Capital  Private Equity   \n",
       "1                         Triton Investment Advisors  Private Equity   \n",
       "2  Kashyap Deorah, Anand Sankeshwar, Deepak Jain,...    Seed Funding   \n",
       "3  Kunal Shah, LetsVenture, Anupam Mittal, Hetal ...    Seed Funding   \n",
       "4                     Narottam Thudi, Shireesh Palle    Seed Funding   \n",
       "\n",
       "  AmountInUSD Remarks  \n",
       "0   1,300,000     NaN  \n",
       "1         NaN     NaN  \n",
       "2         NaN     NaN  \n",
       "3     500,000     NaN  \n",
       "4     850,000     NaN  "
      ]
     },
     "execution_count": 3,
     "metadata": {},
     "output_type": "execute_result"
    }
   ],
   "source": [
    "df_data.head()"
   ]
  },
  {
   "cell_type": "code",
   "execution_count": 4,
   "id": "067c288a",
   "metadata": {},
   "outputs": [
    {
     "data": {
      "image/png": "[encoded data removed]",
      "text/plain": [
       "<Figure size 432x288 with 1 Axes>"
      ]
     },
     "metadata": {
      "needs_background": "light"
     },
     "output_type": "display_data"
    },
    {
     "name": "stdout",
     "output_type": "stream",
     "text": [
      "Bangalore 412\n",
      "Mumbai 303\n",
      "New Delhi 215\n",
      "Gurgaon 166\n",
      "Noida 46\n"
     ]
    }
   ],
   "source": [
    "\"\"\"\n",
    "Your Friend has developed the Product and he wants to establish the product startup and \n",
    "he is searching for a perfect location where getting the investment has a high chance. \n",
    "But due to its financial restriction, he can choose only between three locations -  Bangalore, Mumbai, \n",
    "and NCR. As a friend, you want to help your friend deciding the location. NCR include Gurgaon, Noida and New Delhi. \n",
    "Find the location where the most number of funding is done. That means, find the location where \n",
    "startups has received funding maximum number of times. Plot the bar graph between location and number of funding. \n",
    "Take city name \"Delhi\" as \"New Delhi\". Check the case-sensitiveness of cities also. \n",
    "That means, at some place instead of \"Bangalore\", \"bangalore\" is given. Take city name as \"Bangalore\". \n",
    "For few startups multiple locations are given, one Indian and one Foreign. \n",
    "Consider the startup if any one of the city lies in given locations.\n",
    "\"\"\"\n",
    "def change_location_name(x):\n",
    "    if str(x) == \"Delhi\" or str(x) == \"delhi\":\n",
    "        x = \"New Delhi\"\n",
    "        \n",
    "    elif str(x) == \"bangalore\":\n",
    "        x = \"Bangalore\"\n",
    "    \n",
    "    elif \"/\" in str(x):\n",
    "        x = x.split(\"/\")\n",
    "        if \"Bangalore\" in x:\n",
    "            x = \"Bangalore\"\n",
    "        else:\n",
    "            x = x[0].strip()\n",
    "    return x\n",
    "\n",
    "df_data[\"CityLocation\"] = df_data[\"CityLocation\"].apply(change_location_name)\n",
    "\n",
    "location_list = [\"Bangalore\", \"Mumbai\", \"Gurgaon\", \"Noida\", \"New Delhi\"]\n",
    "df = df_data.loc[df_data[\"CityLocation\"].isin(location_list)]\n",
    "\n",
    "df[\"AmountInUSD\"] = df[\"AmountInUSD\"].str.replace(\",\", \"\")\n",
    "df[\"AmountInUSD\"] = df[\"AmountInUSD\"].astype(\"float64\")\n",
    "\n",
    "grouped_data = df.groupby(\"CityLocation\")[\"AmountInUSD\"].count()\n",
    "grouped_data = grouped_data.sort_values(ascending = False)\n",
    "city = grouped_data.index\n",
    "funds = grouped_data.values\n",
    "\n",
    "plt.bar(city, funds)\n",
    "plt.ylabel('funds')\n",
    "plt.xlabel('city')\n",
    "plt.title('CITY vs FUNDS')\n",
    "plt.show()\n",
    "\n",
    "for x in range(len(funds)):\n",
    "    print(city[x], funds[x])"
   ]
  },
  {
   "cell_type": "code",
   "execution_count": 5,
   "id": "d5485e79",
   "metadata": {},
   "outputs": [
    {
     "data": {
      "image/png": "[encoded data removed]",
      "text/plain": [
       "<Figure size 432x288 with 1 Axes>"
      ]
     },
     "metadata": {},
     "output_type": "display_data"
    },
    {
     "name": "stdout",
     "output_type": "stream",
     "text": [
      "Sequoia Capital 64\n",
      "Accel Partners 53\n",
      "Kalaari Capital 44\n",
      "SAIF Partners 41\n",
      "Indian Angel Network 40\n"
     ]
    }
   ],
   "source": [
    "\"\"\"\n",
    "Even after trying for so many times, your friend’s startup could not find the investment. \n",
    "So you decided to take this matter in your hand and try to find the list of investors who probably \n",
    "can invest in your friend’s startup. Your list will increase the chance of your friend startup getting \n",
    "some initial investment by contacting these investors. Find the top 5 investors who have invested maximum \n",
    "number of times (consider repeat investments in one company also). In a startup, multiple investors might have invested. \n",
    "So consider each investor for that startup. Ignore undisclosed investors.\n",
    "\"\"\"\n",
    "temp_df = df_data.copy()\n",
    "\n",
    "temp_df[\"InvestorsName\"] = temp_df[\"InvestorsName\"].str.split(\",\")\n",
    "temp_df = temp_df.explode(\"InvestorsName\").reset_index(drop=True)\n",
    "undisclosed_investors = temp_df[temp_df[\"InvestorsName\"].apply(lambda x : str(x).startswith((\"Undisclosed\", \"undisclosed\")))][\"InvestorsName\"].value_counts().keys().tolist()\n",
    "temp_df = temp_df[~temp_df[\"InvestorsName\"].isin(undisclosed_investors)]\n",
    "temp_df[\"InvestorsName\"] = temp_df[\"InvestorsName\"].str.strip()\n",
    "temp_df = temp_df[temp_df[\"InvestorsName\"]!=\"\"]\n",
    "ans = temp_df[\"InvestorsName\"].value_counts()[0:5].to_dict()\n",
    "labels = list(ans.keys())\n",
    "values = list(ans.values())\n",
    "plt.pie(values, labels = labels, autopct=\"%.2f\")\n",
    "plt.axis(\"equal\")\n",
    "plt.show()\n",
    "\n",
    "for i in range(len(labels)):\n",
    "    print(labels[i], values[i])\n",
    "\n"
   ]
  },
  {
   "cell_type": "code",
   "execution_count": 9,
   "id": "61add1f4",
   "metadata": {},
   "outputs": [
    {
     "data": {
      "image/png": "[encoded data removed]",
      "text/plain": [
       "<Figure size 432x288 with 1 Axes>"
      ]
     },
     "metadata": {
      "needs_background": "light"
     },
     "output_type": "display_data"
    },
    {
     "name": "stdout",
     "output_type": "stream",
     "text": [
      "Sequoia Capital 48\n",
      "Accel Partners 47\n",
      "Kalaari Capital 41\n",
      "Indian Angel Network 40\n",
      "Blume Ventures 36\n"
     ]
    }
   ],
   "source": [
    "\"\"\"\n",
    "After re-analysing the dataset you found out that some investors have invested in the \n",
    "same startup at different number of funding rounds. So before finalising the previous list, \n",
    "you want to improvise it by finding the top 5 investors who have invested in different number of startups. \n",
    "This list will be more helpful than your previous list in finding the investment for your friend startup. \n",
    "Find the top 5 investors who have invested maximum number of times in different companies.  \n",
    "That means, if one investor has invested multiple times in one startup, count one for that company. \n",
    "There are many errors in startup names. Ignore correcting all, just handle the important ones - Ola, Flipkart, Oyo and Paytm.\n",
    "\"\"\"\n",
    "df = df_data.copy()\n",
    "df = df_data.loc[:, ['InvestorsName', 'StartupName']]\n",
    "df = df.dropna()\n",
    "df['StartupName'].replace('OyoRooms','Oyo',inplace = True)\n",
    "df['StartupName'].replace('Oyo Rooms','Oyo',inplace = True)\n",
    "df['StartupName'].replace('OYO Rooms','Oyo',inplace = True)\n",
    "df['StartupName'].replace('Oyorooms','Oyo',inplace = True)\n",
    "df['StartupName'].replace('Flipkart.com','Flipkart',inplace = True)\n",
    "df['StartupName'].replace('Olacabs','Ola',inplace = True)\n",
    "df['StartupName'].replace('Ola Cabs','Ola',inplace = True)\n",
    "df['StartupName'].replace('Olacabs','Ola',inplace = True)\n",
    "df['StartupName'].replace('Paytm Marketplace','Paytm',inplace = True)\n",
    "\n",
    "df[\"InvestorsName\"] = df[\"InvestorsName\"].str.split(\",\")\n",
    "df = df.explode(\"InvestorsName\").reset_index(drop=True)\n",
    "undisclosed_investors = df[df[\"InvestorsName\"].apply(lambda x : str(x).startswith((\"Undisclosed\", \"undisclosed\")))][\"InvestorsName\"].value_counts().keys().tolist()\n",
    "df = df[~df[\"InvestorsName\"].isin(undisclosed_investors)]\n",
    "df[\"InvestorsName\"] = df[\"InvestorsName\"].str.strip()\n",
    "df = df[df[\"InvestorsName\"]!=\"\"]\n",
    "df = df.reset_index(drop=True)\n",
    "top_groups = df.groupby(\"InvestorsName\")[\"StartupName\"].nunique().sort_values(ascending = False)[0:5]\n",
    "labels = list(top_groups.keys())\n",
    "values = list(top_groups.values)\n",
    "plt.bar(labels, values)\n",
    "plt.xticks(rotation=90)\n",
    "plt.xlabel('Top 5 Investors')\n",
    "plt.ylabel('No_Of_Investment')\n",
    "plt.title('Top Investors')\n",
    "plt.show()\n",
    "\n",
    "for i in range(len(values)):\n",
    "    print(labels[i], values[i])"
   ]
  },
  {
   "cell_type": "code",
   "execution_count": 7,
   "id": "f87f2b08",
   "metadata": {},
   "outputs": [
    {
     "data": {
      "image/png": "[encoded data removed]",
      "text/plain": [
       "<Figure size 432x288 with 1 Axes>"
      ]
     },
     "metadata": {
      "needs_background": "light"
     },
     "output_type": "display_data"
    },
    {
     "name": "stdout",
     "output_type": "stream",
     "text": [
      "Indian Angel Network 33\n",
      "Rajan Anandan 23\n",
      "LetsVenture 16\n",
      "Anupam Mittal 16\n",
      "Group of Angel Investors 14\n"
     ]
    }
   ],
   "source": [
    "\"\"\"\n",
    "Even after putting so much effort in finding the probable investors, \n",
    "it didn't turn out to be helpful for your friend. So you went to your investor friend to \n",
    "understand the situation better and your investor friend explained to you about the different \n",
    "Investment Types and their features. This new information will be helpful in finding the right investor. \n",
    "Since your friend startup is at an early stage startup, the best-suited investment type would be -\n",
    "Seed Funding and Crowdfunding. Find the top 5 investors who have invested in a different number of startups \n",
    "and their investment type is Crowdfunding or Seed Funding. Correct spelling of \n",
    "investment types are - \"Private Equity\", \"Seed Funding\", \"Debt Funding\", and \"Crowd Funding\". \n",
    "Keep an eye for any spelling mistake. You can find this by printing unique values from this column. \n",
    "There are many errors in startup names. Ignore correcting all, just handle the important ones - Ola, Flipkart, Oyo and Paytm.\n",
    "\"\"\"\n",
    "\n",
    "df = df_data.copy()\n",
    "df['StartupName'].replace('Oyorooms','Oyo',inplace = True)\n",
    "df['StartupName'].replace('OyoRooms','Oyo',inplace = True)\n",
    "df['StartupName'].replace('Oyo Rooms','Oyo',inplace = True)\n",
    "df['StartupName'].replace('OYO Rooms','Oyo',inplace = True)\n",
    "df['StartupName'].replace('Olacabs','Ola',inplace = True)\n",
    "df['StartupName'].replace('Ola Cabs','Ola',inplace = True)\n",
    "df['StartupName'].replace('Olacabs','Ola',inplace = True)\n",
    "df['StartupName'].replace('Flipkart.com','Flipkart',inplace = True)\n",
    "df['StartupName'].replace('Paytm Marketplace','Paytm',inplace = True)\n",
    "\n",
    "\n",
    "df[\"InvestorsName\"] = df[\"InvestorsName\"].str.split(\",\")\n",
    "df = df.explode(\"InvestorsName\").reset_index(drop=True)\n",
    "undisclosed_investors = df[df[\"InvestorsName\"].apply(lambda x : str(x).startswith((\"Undisclosed\", \"undisclosed\")))][\"InvestorsName\"].value_counts().keys().tolist()\n",
    "df = df[~df[\"InvestorsName\"].isin(undisclosed_investors)]\n",
    "df[\"InvestorsName\"] = df[\"InvestorsName\"].str.strip()\n",
    "df = df[df[\"InvestorsName\"]!=\"\"]\n",
    "df = df.reset_index(drop=True)\n",
    "\n",
    "\n",
    "df['InvestmentType'].replace('PrivateEquity','Private Equity',inplace=True)\n",
    "df['InvestmentType'].replace('SeedFunding','Seed Funding',inplace=True)\n",
    "df['InvestmentType'].replace('Crowd funding','Crowd Funding',inplace=True)\n",
    "\n",
    "df = df[(df.InvestmentType == 'Crowd Funding') | (df.InvestmentType == 'Seed Funding')]\n",
    "df1 = df.groupby('InvestorsName')['StartupName'].nunique().sort_values(ascending = False)\n",
    "ans = df1[0:5]\n",
    "\n",
    "labels = list(ans.keys())\n",
    "values = list(ans.values)\n",
    "plt.bar(labels, values)\n",
    "plt.xticks(rotation=90)\n",
    "plt.xlabel('Top 5 Investors')\n",
    "plt.ylabel('No_Of_Investment')\n",
    "plt.title('Top Investors')\n",
    "plt.show()\n",
    "\n",
    "for i in range(len(values)):\n",
    "    print(labels[i], values[i])"
   ]
  },
  {
   "cell_type": "code",
   "execution_count": 8,
   "id": "4b57b285",
   "metadata": {},
   "outputs": [
    {
     "data": {
      "image/png": "[encoded data removed]",
      "text/plain": [
       "<Figure size 432x288 with 1 Axes>"
      ]
     },
     "metadata": {
      "needs_background": "light"
     },
     "output_type": "display_data"
    },
    {
     "name": "stdout",
     "output_type": "stream",
     "text": [
      "Sequoia Capital 45\n",
      "Accel Partners 43\n",
      "Kalaari Capital 35\n",
      "Blume Ventures 27\n",
      "SAIF Partners 24\n"
     ]
    }
   ],
   "source": [
    "\"\"\"\n",
    "Due to your immense help, your friend startup successfully got seed funding and \n",
    "it is on the operational mode. Now your friend wants to expand his startup and \n",
    "he is looking for new investors for his startup. Now you again come as a saviour \n",
    "to help your friend and want to create a list of probable new new investors. \n",
    "Before moving forward you remember your investor friend advice that finding the \n",
    "investors by analysing the investment type. Since your friend startup is not in early \n",
    "phase it is in growth stage so the best-suited investment type is Private Equity. \n",
    "Find the top 5 investors who have invested in a different number of startups and \n",
    "their investment type is Private Equity. \n",
    "Correct spelling of investment types are - \"Private Equity\", \"Seed Funding\", \"Debt Funding\", and \"Crowd Funding\". \n",
    "Keep an eye for any spelling mistake. You can find this by printing unique values from this column. \n",
    "There are many errors in startup names. Ignore correcting all, just handle the important ones - Ola, Flipkart, Oyo and Paytm.\n",
    "\"\"\"\n",
    "df=df_data.copy()\n",
    "\n",
    "df['StartupName'].replace('Oyorooms','Oyo',inplace = True)\n",
    "df['StartupName'].replace('OyoRooms','Oyo',inplace = True)\n",
    "df['StartupName'].replace('Oyo Rooms','Oyo',inplace = True)\n",
    "df['StartupName'].replace('OYO Rooms','Oyo',inplace = True)\n",
    "df['StartupName'].replace('Olacabs','Ola',inplace = True)\n",
    "df['StartupName'].replace('Ola Cabs','Ola',inplace = True)\n",
    "df['StartupName'].replace('Olacabs','Ola',inplace = True)\n",
    "df['StartupName'].replace('Flipkart.com','Flipkart',inplace = True)\n",
    "df['StartupName'].replace('Paytm Marketplace','Paytm',inplace = True)\n",
    "\n",
    "df[\"InvestorsName\"] = df[\"InvestorsName\"].str.split(\",\")\n",
    "df = df.explode(\"InvestorsName\").reset_index(drop=True)\n",
    "undisclosed_investors = df[df[\"InvestorsName\"].apply(lambda x : str(x).startswith((\"Undisclosed\", \"undisclosed\")))][\"InvestorsName\"].value_counts().keys().tolist()\n",
    "df = df[~df[\"InvestorsName\"].isin(undisclosed_investors)]\n",
    "df[\"InvestorsName\"] = df[\"InvestorsName\"].str.strip()\n",
    "df = df[df[\"InvestorsName\"]!=\"\"]\n",
    "df = df.reset_index(drop=True)\n",
    "\n",
    "\n",
    "df['InvestmentType'].replace('PrivateEquity','Private Equity',inplace=True)\n",
    "df['InvestmentType'].replace('SeedFunding','Seed Funding',inplace=True)\n",
    "df['InvestmentType'].replace('Crowd funding','Crowd Funding',inplace=True)\n",
    "\n",
    "df = df[df.InvestmentType == 'Private Equity']\n",
    "df1 = df.groupby('InvestorsName')['StartupName'].nunique().sort_values(ascending = False)\n",
    "ans = df1[0:5]\n",
    "labels = list(ans.keys())\n",
    "values = list(ans.values)\n",
    "plt.bar(labels, values)\n",
    "plt.xticks(rotation=90)\n",
    "plt.xlabel('Top 5 Investors')\n",
    "plt.ylabel('No_Of_Investment')\n",
    "plt.title('Top Investors')\n",
    "plt.show()\n",
    "\n",
    "for i in range(len(values)):\n",
    "    print(labels[i], values[i])"
   ]
  },
  {
   "cell_type": "code",
   "execution_count": null,
   "id": "e45b4d34",
   "metadata": {},
   "outputs": [],
   "source": []
  }
 ],
 "metadata": {
  "kernelspec": {
   "display_name": "Python 3",
   "language": "python",
   "name": "python3"
  },
  "language_info": {
   "codemirror_mode": {
    "name": "ipython",
    "version": 3
   },
   "file_extension": ".py",
   "mimetype": "text/x-python",
   "name": "python",
   "nbconvert_exporter": "python",
   "pygments_lexer": "ipython3",
   "version": "3.8.8"
  }
 },
 "nbformat": 4,
 "nbformat_minor": 5
}
